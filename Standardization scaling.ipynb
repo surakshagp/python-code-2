{
 "cells": [
  {
   "cell_type": "code",
   "execution_count": 1,
   "id": "ef91ea61",
   "metadata": {},
   "outputs": [
    {
     "data": {
      "text/plain": [
       "array([[0.88429752, 0.        ],\n",
       "       [0.03305785, 0.07954545],\n",
       "       [0.        , 0.73863636],\n",
       "       [1.        , 0.27272727],\n",
       "       [0.0661157 , 1.        ]])"
      ]
     },
     "execution_count": 1,
     "metadata": {},
     "output_type": "execute_result"
    }
   ],
   "source": [
    "import pandas as pd\n",
    "from sklearn.preprocessing import MinMaxScaler\n",
    "df=pd.read_csv('D:\\\\AIML-B2\\\\Alcohol.csv')\n",
    "scaling=MinMaxScaler()\n",
    "scaling.fit_transform(df[['Alcohol','Malic']])"
   ]
  },
  {
   "cell_type": "markdown",
   "id": "e4ab88a5",
   "metadata": {},
   "source": [
    "                            Z score normalization "
   ]
  },
  {
   "cell_type": "code",
   "execution_count": 3,
   "id": "14c8ff6d",
   "metadata": {},
   "outputs": [
    {
     "data": {
      "text/plain": [
       "array([[0.88429752, 0.        ],\n",
       "       [0.03305785, 0.07954545],\n",
       "       [0.        , 0.73863636],\n",
       "       [1.        , 0.27272727],\n",
       "       [0.0661157 , 1.        ]])"
      ]
     },
     "execution_count": 3,
     "metadata": {},
     "output_type": "execute_result"
    }
   ],
   "source": [
    "from sklearn.preprocessing import MinMaxScaler\n",
    "scaling=MinMaxScaler()\n",
    "scaling.fit_transform(df[['Alcohol','Malic']])\n"
   ]
  },
  {
   "cell_type": "code",
   "execution_count": null,
   "id": "7ed63ae6",
   "metadata": {},
   "outputs": [],
   "source": []
  }
 ],
 "metadata": {
  "kernelspec": {
   "display_name": "Python 3 (ipykernel)",
   "language": "python",
   "name": "python3"
  },
  "language_info": {
   "codemirror_mode": {
    "name": "ipython",
    "version": 3
   },
   "file_extension": ".py",
   "mimetype": "text/x-python",
   "name": "python",
   "nbconvert_exporter": "python",
   "pygments_lexer": "ipython3",
   "version": "3.11.3"
  }
 },
 "nbformat": 4,
 "nbformat_minor": 5
}
