{
  "nbformat": 4,
  "nbformat_minor": 0,
  "metadata": {
    "colab": {
      "provenance": [],
      "authorship_tag": "ABX9TyOnxxnFbE6GaFH/njc0iicy",
      "include_colab_link": true
    },
    "kernelspec": {
      "name": "python3",
      "display_name": "Python 3"
    },
    "language_info": {
      "name": "python"
    }
  },
  "cells": [
    {
      "cell_type": "markdown",
      "metadata": {
        "id": "view-in-github",
        "colab_type": "text"
      },
      "source": [
        "<a href=\"https://colab.research.google.com/github/surakshagp/python-code-2/blob/main/Walked.ipynb\" target=\"_parent\"><img src=\"https://colab.research.google.com/assets/colab-badge.svg\" alt=\"Open In Colab\"/></a>"
      ]
    },
    {
      "cell_type": "code",
      "execution_count": null,
      "metadata": {
        "colab": {
          "base_uri": "https://localhost:8080/"
        },
        "id": "lQFrnmymBE33",
        "outputId": "49026d57-e813-428b-e168-3b59f3e54351"
      },
      "outputs": [
        {
          "output_type": "stream",
          "name": "stderr",
          "text": [
            "<ipython-input-5-d039ba41f046>:4: VisibleDeprecationWarning: Creating an ndarray from ragged nested sequences (which is a list-or-tuple of lists-or-tuples-or ndarrays with different lengths or shapes) is deprecated. If you meant to do this, you must specify 'dtype=object' when creating the ndarray.\n",
            "  arr=np.array([Day_number,Steps_walked])\n"
          ]
        },
        {
          "output_type": "execute_result",
          "data": {
            "text/plain": [
              "array([array([ 1,  2,  3,  4,  5,  6,  7,  8,  9, 10]),\n",
              "       list([1223, 1444, 4567, 789, 9014, 6792, 45617, 4467])],\n",
              "      dtype=object)"
            ]
          },
          "metadata": {},
          "execution_count": 5
        }
      ],
      "source": [
        "import numpy as np\n",
        "\n",
        "arr=arr.T\n",
        "arr"
      ]
    },
    {
      "cell_type": "code",
      "source": [
        "import pandas as pd\n",
        "arr={'Day_number':[1,2,3,4,5,6,7,8,9,10],\n",
        "     'Steps_walked':[1223,1444,4567,7859,9014,6792,45617,4467,1245,5680]}\n",
        "df=pd.DataFrame(arr)\n",
        "arr"
      ],
      "metadata": {
        "colab": {
          "base_uri": "https://localhost:8080/"
        },
        "id": "OeXdSvBgCRR5",
        "outputId": "1a563017-d8a9-42c9-a977-cbde6dd45b40"
      },
      "execution_count": null,
      "outputs": [
        {
          "output_type": "execute_result",
          "data": {
            "text/plain": [
              "{'Day_number': [1, 2, 3, 4, 5, 6, 7, 8, 9, 10],\n",
              " 'Steps_walked': [1223, 1444, 4567, 7859, 9014, 6792, 45617, 4467, 1245, 5680]}"
            ]
          },
          "metadata": {},
          "execution_count": 10
        }
      ]
    }
  ]
}