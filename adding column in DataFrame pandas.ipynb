{
 "cells": [
  {
   "cell_type": "code",
   "execution_count": 4,
   "id": "b9652820",
   "metadata": {},
   "outputs": [
    {
     "name": "stdout",
     "output_type": "stream",
     "text": [
      "        Date    Event   cost\n",
      "0  10/2/2011    music  10000\n",
      "1  11/2/2011   poetry   5000\n",
      "2  12/2/2011  theatre  15000\n",
      "3  13/2/2011   comedy   2000\n"
     ]
    }
   ],
   "source": [
    "import pandas as pd\n",
    "df=pd.DataFrame({'Date':['10/2/2011','11/2/2011','12/2/2011','13/2/2011'],\n",
    "                 'Event':['music','poetry','theatre','comedy'],\n",
    "                 'cost':[10000,5000,15000,2000,]})\n",
    "print(df)"
   ]
  },
  {
   "cell_type": "markdown",
   "id": "a500fb91",
   "metadata": {},
   "source": [
    "                Creating new column in pandas DataFrame"
   ]
  },
  {
   "cell_type": "code",
   "execution_count": 7,
   "id": "eea55cd0",
   "metadata": {},
   "outputs": [
    {
     "name": "stdout",
     "output_type": "stream",
     "text": [
      "        Date    Event   cost  Discount_price\n",
      "0  10/2/2011    music  10000          9000.0\n",
      "1  11/2/2011   poetry   5000          4500.0\n",
      "2  12/2/2011  theatre  15000         13500.0\n",
      "3  13/2/2011   comedy   2000          1800.0\n"
     ]
    }
   ],
   "source": [
    "df['Discount_price']=df.apply(lambda a:a.cost-(a.cost*0.1),axis=1)\n",
    "print(df)"
   ]
  },
  {
   "cell_type": "code",
   "execution_count": null,
   "id": "b0c7266c",
   "metadata": {},
   "outputs": [],
   "source": []
  },
  {
   "cell_type": "code",
   "execution_count": null,
   "id": "61454206",
   "metadata": {},
   "outputs": [],
   "source": []
  }
 ],
 "metadata": {
  "kernelspec": {
   "display_name": "Python 3 (ipykernel)",
   "language": "python",
   "name": "python3"
  },
  "language_info": {
   "codemirror_mode": {
    "name": "ipython",
    "version": 3
   },
   "file_extension": ".py",
   "mimetype": "text/x-python",
   "name": "python",
   "nbconvert_exporter": "python",
   "pygments_lexer": "ipython3",
   "version": "3.11.3"
  }
 },
 "nbformat": 4,
 "nbformat_minor": 5
}
